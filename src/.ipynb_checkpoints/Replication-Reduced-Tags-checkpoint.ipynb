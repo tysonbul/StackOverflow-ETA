{
 "cells": [
  {
   "cell_type": "markdown",
   "metadata": {},
   "source": [
    "# Run for results\n",
    "Once you've ran the other scripts to generate the necessary csv's, adjust the file names below to point to them and run the notebook"
   ]
  },
  {
   "cell_type": "code",
   "execution_count": null,
   "metadata": {
    "collapsed": true
   },
   "outputs": [],
   "source": [
    "import pandas as pd\n",
    "import numpy as np\n",
    "from os import walk\n",
    "\n",
    "data_dir = '../data/QuestionResponseTimes/'\n",
    "cache_dir = '../data/cache/'"
   ]
  },
  {
   "cell_type": "code",
   "execution_count": null,
   "metadata": {
    "scrolled": true
   },
   "outputs": [],
   "source": [
    "posts = pd.read_csv(cache_dir+'posts.csv')\n",
    "posts.head(3)"
   ]
  },
  {
   "cell_type": "code",
   "execution_count": null,
   "metadata": {
    "scrolled": true
   },
   "outputs": [],
   "source": [
    "tag_counts = pd.read_csv('../data/TagStatistics_2017.csv')\n",
    "tag_counts.head(3)"
   ]
  },
  {
   "cell_type": "code",
   "execution_count": null,
   "metadata": {
    "scrolled": true
   },
   "outputs": [],
   "source": [
    "active_subs = pd.read_csv('../data/ActiveSubscribers_2017.csv').rename(index=str,columns={'numUsers':'numActiveSubs'})\n",
    "active_subs.head(3)"
   ]
  },
  {
   "cell_type": "code",
   "execution_count": null,
   "metadata": {
    "scrolled": true
   },
   "outputs": [],
   "source": [
    "responsive_subs = pd.read_csv('../data/ResponsiveSubscribers_2017.csv').rename(index=str,columns={'numUsers':'numResponsiveSubs'})\n",
    "responsive_subs.head(3)"
   ]
  },
  {
   "cell_type": "markdown",
   "metadata": {},
   "source": [
    "## Join all the tag stats"
   ]
  },
  {
   "cell_type": "code",
   "execution_count": null,
   "metadata": {
    "scrolled": true
   },
   "outputs": [],
   "source": [
    "tag_stats_df = tag_counts.merge(responsive_subs, how='inner', left_on='Tag', right_on='TagName').merge(active_subs, how='inner', on='TagName')\n",
    "del tag_stats_df['TagName']\n",
    "tag_stats_df.head(3)"
   ]
  },
  {
   "cell_type": "markdown",
   "metadata": {},
   "source": [
    "## Make ratios"
   ]
  },
  {
   "cell_type": "code",
   "execution_count": null,
   "metadata": {
    "collapsed": true
   },
   "outputs": [],
   "source": [
    "tag_stats_df['ActiveSubRatio'] = tag_stats_df['numActiveSubs'] / tag_stats_df['numActiveSubs'].sum()"
   ]
  },
  {
   "cell_type": "code",
   "execution_count": null,
   "metadata": {
    "collapsed": true
   },
   "outputs": [],
   "source": [
    "tag_stats_df['ResponsiveSubRatio'] = tag_stats_df['numResponsiveSubs'] / tag_stats_df['numResponsiveSubs'].sum()"
   ]
  },
  {
   "cell_type": "code",
   "execution_count": null,
   "metadata": {
    "collapsed": true
   },
   "outputs": [],
   "source": [
    "tag_stats_df['PopularityRating'] = tag_stats_df['Questions'] / tag_stats_df['Questions'].sum()"
   ]
  },
  {
   "cell_type": "code",
   "execution_count": null,
   "metadata": {
    "scrolled": true
   },
   "outputs": [],
   "source": [
    "tag_stats_df.head(3)"
   ]
  },
  {
   "cell_type": "code",
   "execution_count": null,
   "metadata": {
    "collapsed": true
   },
   "outputs": [],
   "source": [
    "tag_dict = tag_stats_df.set_index('Tag').to_dict(orient='index')"
   ]
  },
  {
   "cell_type": "markdown",
   "metadata": {},
   "source": [
    "## Get stats per question"
   ]
  },
  {
   "cell_type": "code",
   "execution_count": null,
   "metadata": {
    "collapsed": true
   },
   "outputs": [],
   "source": [
    "cutoff = active_subs['numActiveSubs'][6500]\n",
    "active_subs['numActiveSubs'] = active_subs['numActiveSubs'].astype(int)\n",
    "active_subs = active_subs[active_subs['numActiveSubs'] > cutoff]\n",
    "top_tags = active_subs['TagName']\n",
    "# top_tags"
   ]
  },
  {
   "cell_type": "code",
   "execution_count": null,
   "metadata": {
    "collapsed": true,
    "scrolled": true
   },
   "outputs": [],
   "source": [
    "top_tags = top_tags.unique()"
   ]
  },
  {
   "cell_type": "code",
   "execution_count": null,
   "metadata": {},
   "outputs": [],
   "source": [
    "# Get tag stats per question\n",
    "data_df = []\n",
    "for index, post_df in posts.iterrows():\n",
    "    tags = [tag.strip()[1:-1] for tag in post_df['tags'][1:-1].split(',')]\n",
    "    if len(list(set(tags).intersection(top_tags))) > 0:\n",
    "        d = tag_stats_df[tag_stats_df['Tag'].isin(tags)].mean()\n",
    "        d['post_id'] = str(post_df['post_id'])\n",
    "        d['response_time'] = post_df['response_time']\n",
    "        data_df.append(d)"
   ]
  },
  {
   "cell_type": "code",
   "execution_count": null,
   "metadata": {
    "scrolled": true
   },
   "outputs": [],
   "source": [
    "data_df = pd.DataFrame(data_df)\n",
    "data_df.head(3)"
   ]
  },
  {
   "cell_type": "code",
   "execution_count": null,
   "metadata": {
    "collapsed": true
   },
   "outputs": [],
   "source": [
    "# Save so later can just load\n",
    "data_df.to_csv('../data/cache/data_df_trimmed.csv', index=False)"
   ]
  },
  {
   "cell_type": "markdown",
   "metadata": {},
   "source": [
    "## Split into X and y"
   ]
  },
  {
   "cell_type": "code",
   "execution_count": null,
   "metadata": {
    "collapsed": true
   },
   "outputs": [],
   "source": [
    "ml_columns = [\n",
    "    'ActiveSubRatio',\n",
    "    'ResponsiveSubRatio',\n",
    "    'PopularityRating',\n",
    "#     'Questions',\n",
    "#     'Views',\n",
    "#     'percentOfSite',\n",
    "#     'Score',\n",
    "#     'Answers',\n",
    "#     'AvgViews',\n",
    "#     'AvgScore',\n",
    "#     'AvgAnswers'\n",
    "]"
   ]
  },
  {
   "cell_type": "code",
   "execution_count": null,
   "metadata": {
    "scrolled": true
   },
   "outputs": [],
   "source": [
    "X = data_df[ml_columns].fillna(0).replace([np.inf, -np.inf], 0)"
   ]
  },
  {
   "cell_type": "code",
   "execution_count": null,
   "metadata": {
    "collapsed": true
   },
   "outputs": [],
   "source": [
    "y = data_df['response_time']"
   ]
  },
  {
   "cell_type": "code",
   "execution_count": null,
   "metadata": {},
   "outputs": [],
   "source": [
    "# Bin the y values\n",
    "from scipy.stats import binned_statistic\n",
    "binned_statistic(y, y, bins=25).bin_edges"
   ]
  },
  {
   "cell_type": "code",
   "execution_count": null,
   "metadata": {
    "collapsed": true,
    "scrolled": true
   },
   "outputs": [],
   "source": [
    "y_bins = pd.cut(y, binned_statistic(y, y, bins=25).bin_edges)"
   ]
  },
  {
   "cell_type": "code",
   "execution_count": null,
   "metadata": {
    "scrolled": true
   },
   "outputs": [],
   "source": [
    "bins = {}\n",
    "bins_inverse = {}\n",
    "for i, b in enumerate(sorted(pd.cut(y, binned_statistic(y, y, bins=25).bin_edges).unique().categories, key=lambda x:x.left)):\n",
    "    bins[b] = i\n",
    "    bins_inverse[i] = b"
   ]
  },
  {
   "cell_type": "code",
   "execution_count": null,
   "metadata": {
    "collapsed": true,
    "scrolled": true
   },
   "outputs": [],
   "source": [
    "y_binned = y_bins.apply(lambda x: bins[x]).fillna(0)"
   ]
  },
  {
   "cell_type": "markdown",
   "metadata": {},
   "source": [
    "## Normalize X"
   ]
  },
  {
   "cell_type": "code",
   "execution_count": null,
   "metadata": {
    "collapsed": true
   },
   "outputs": [],
   "source": [
    "from sklearn.preprocessing import MinMaxScaler"
   ]
  },
  {
   "cell_type": "code",
   "execution_count": null,
   "metadata": {
    "collapsed": true
   },
   "outputs": [],
   "source": [
    "minmax = MinMaxScaler()\n",
    "X_norm = minmax.fit_transform(X)"
   ]
  },
  {
   "cell_type": "markdown",
   "metadata": {},
   "source": [
    "## Train and test model"
   ]
  },
  {
   "cell_type": "code",
   "execution_count": null,
   "metadata": {
    "collapsed": true,
    "scrolled": true
   },
   "outputs": [],
   "source": [
    "# Import models\n",
    "from sklearn.neighbors import KNeighborsClassifier"
   ]
  },
  {
   "cell_type": "code",
   "execution_count": null,
   "metadata": {
    "collapsed": true
   },
   "outputs": [],
   "source": [
    "from sklearn.model_selection import cross_val_score, cross_val_predict\n",
    "clf = KNeighborsClassifier(n_neighbors=25)\n",
    "scores = cross_val_score(clf, X_norm, y_binned, cv=10)\n",
    "clf = KNeighborsClassifier(n_neighbors=25)\n",
    "y_pred = cross_val_predict(clf, X_norm, y_binned, cv=10)"
   ]
  },
  {
   "cell_type": "code",
   "execution_count": null,
   "metadata": {},
   "outputs": [],
   "source": [
    "scores.mean()"
   ]
  },
  {
   "cell_type": "markdown",
   "metadata": {},
   "source": [
    "## Calculate the baseline"
   ]
  },
  {
   "cell_type": "code",
   "execution_count": null,
   "metadata": {},
   "outputs": [],
   "source": [
    "y_mean = y.mean()\n",
    "y_mean"
   ]
  },
  {
   "cell_type": "code",
   "execution_count": null,
   "metadata": {},
   "outputs": [],
   "source": [
    "# guess the mean or median for every guess\n",
    "from sklearn.metrics import accuracy_score\n",
    "accuracy_score(y_binned, [6] * len(y_binned))"
   ]
  },
  {
   "cell_type": "code",
   "execution_count": null,
   "metadata": {},
   "outputs": [],
   "source": [
    "# Guess randomly\n",
    "accuracy_score(y_binned, np.random.randint(0, high=25, size=len(y_binned)))"
   ]
  },
  {
   "cell_type": "markdown",
   "metadata": {},
   "source": [
    "## Calculate time bin difference"
   ]
  },
  {
   "cell_type": "code",
   "execution_count": null,
   "metadata": {
    "collapsed": true,
    "scrolled": true
   },
   "outputs": [],
   "source": [
    "diffs = abs(y_binned - y_pred)\n",
    "baseline_diff = abs(y_binned - np.array([6] * len(y_binned)))"
   ]
  },
  {
   "cell_type": "code",
   "execution_count": null,
   "metadata": {},
   "outputs": [],
   "source": [
    "import matplotlib.pyplot as plt\n",
    "plt.hist([diffs,baseline_diff], bins=range(0, 25))\n",
    "plt.legend(['kNN', 'Mean Baseline'])\n",
    "plt.xlabel('Time bin difference')\n",
    "plt.ylabel('Frequency')\n",
    "plt.savefig('../graphs/time-bin-difference.png')\n",
    "plt.show()"
   ]
  },
  {
   "cell_type": "markdown",
   "metadata": {},
   "source": [
    "## Calculate the relative error"
   ]
  },
  {
   "cell_type": "code",
   "execution_count": null,
   "metadata": {},
   "outputs": [],
   "source": [
    "predicted_time = []\n",
    "for pred in y_pred:\n",
    "    x = bins_inverse[pred]\n",
    "    predicted_time.append((x.left+x.right)/2)\n",
    "predicted_time = np.array(predicted_time)"
   ]
  },
  {
   "cell_type": "code",
   "execution_count": null,
   "metadata": {
    "collapsed": true
   },
   "outputs": [],
   "source": [
    "error = []\n",
    "for y_actual, pred in zip(y, predicted_time):\n",
    "    v = abs(y_actual - pred) / (min([y_actual, pred]) if min([y_actual, pred]) > 0 else 1)\n",
    "    error.append(v)"
   ]
  },
  {
   "cell_type": "code",
   "execution_count": null,
   "metadata": {},
   "outputs": [],
   "source": [
    "import matplotlib.pyplot as plt\n",
    "plt.hist(error, bins=range(0, int(max(error)/2)))\n",
    "plt.xlabel('Relative Error')\n",
    "plt.ylabel('Frequency')\n",
    "plt.savefig('../graphs/relative-error.png')\n",
    "plt.show()"
   ]
  },
  {
   "cell_type": "code",
   "execution_count": null,
   "metadata": {
    "collapsed": true
   },
   "outputs": [],
   "source": [
    "error = np.array(error)"
   ]
  },
  {
   "cell_type": "code",
   "execution_count": null,
   "metadata": {},
   "outputs": [],
   "source": [
    "# Mean Relative Error\n",
    "error.mean()"
   ]
  },
  {
   "cell_type": "code",
   "execution_count": null,
   "metadata": {},
   "outputs": [],
   "source": [
    "# Median Relative Error\n",
    "np.median(error)"
   ]
  }
 ],
 "metadata": {
  "kernelspec": {
   "display_name": "Python 3",
   "language": "python",
   "name": "python3"
  },
  "language_info": {
   "codemirror_mode": {
    "name": "ipython",
    "version": 3
   },
   "file_extension": ".py",
   "mimetype": "text/x-python",
   "name": "python",
   "nbconvert_exporter": "python",
   "pygments_lexer": "ipython3",
   "version": "3.6.1"
  }
 },
 "nbformat": 4,
 "nbformat_minor": 2
}
